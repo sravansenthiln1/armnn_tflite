{
 "cells": [
  {
   "cell_type": "markdown",
   "metadata": {
    "id": "0kEuMOjn8juu"
   },
   "source": [
    "**Install all essential libraries**\n",
    "* tensorflow is our general purpose ml library with all the utlities we need\n",
    "* numpy has all our various data types like arrays, matrices etc.\n",
    "* matplotlib for plotting and visualising the numpy array of values\n",
    "* math is just for math functions and mathematical constants"
   ]
  },
  {
   "cell_type": "code",
   "execution_count": null,
   "metadata": {
    "executionInfo": {
     "elapsed": 4,
     "status": "ok",
     "timestamp": 1691561699294,
     "user": {
      "displayName": "Sravan 21BLC1018",
      "userId": "15786248523050194906"
     },
     "user_tz": -330
    },
    "id": "9Tdh7cAA7PRx"
   },
   "outputs": [],
   "source": [
    "import tensorflow as tf\n",
    "from tensorflow.keras import layers\n",
    "import numpy as np\n",
    "import matplotlib\n",
    "import matplotlib.pyplot as plt\n",
    "import math"
   ]
  },
  {
   "cell_type": "markdown",
   "metadata": {
    "id": "63RP2rjr86eO"
   },
   "source": [
    "**Library diagnostic information**"
   ]
  },
  {
   "cell_type": "code",
   "execution_count": null,
   "metadata": {
    "colab": {
     "base_uri": "https://localhost:8080/"
    },
    "executionInfo": {
     "elapsed": 1040,
     "status": "ok",
     "timestamp": 1691561766327,
     "user": {
      "displayName": "Sravan 21BLC1018",
      "userId": "15786248523050194906"
     },
     "user_tz": -330
    },
    "id": "NJ3awkYq71bd",
    "outputId": "adac2355-093a-4c60-da6c-2fa131fd602f"
   },
   "outputs": [],
   "source": [
    "print('Numpy ' + np.__version__)\n",
    "print('Tensorflow ' + tf.__version__)\n",
    "print('Keras ' + tf.keras.__version__)\n",
    "print('Mathplotlib ' + matplotlib.__version__)"
   ]
  },
  {
   "cell_type": "markdown",
   "metadata": {
    "id": "bWNBci118WRp"
   },
   "source": [
    "**Model Traning Parameters**\n",
    "* training - to train the model.\n",
    "* validation - to verify and tune the model.\n",
    "* test - unseen data to see the performance of the model."
   ]
  },
  {
   "cell_type": "code",
   "execution_count": null,
   "metadata": {
    "executionInfo": {
     "elapsed": 5,
     "status": "ok",
     "timestamp": 1691562382865,
     "user": {
      "displayName": "Sravan 21BLC1018",
      "userId": "15786248523050194906"
     },
     "user_tz": -330
    },
    "id": "n88G7CoA8Dpd"
   },
   "outputs": [],
   "source": [
    "nsamples = 1000\n",
    "val_ratio = 0.2     # 20% of data is for validation\n",
    "test_ratio = 0.2    # 20% of data is for testing, overall 600 samples for training\n",
    "tflite_model_name = 'sine_model'\n",
    "c_model_name = 'sine_model'"
   ]
  },
  {
   "cell_type": "markdown",
   "metadata": {
    "id": "NgbWSF-X8_LM"
   },
   "source": [
    "**generate some sample data**"
   ]
  },
  {
   "cell_type": "code",
   "execution_count": null,
   "metadata": {
    "colab": {
     "base_uri": "https://localhost:8080/",
     "height": 447
    },
    "executionInfo": {
     "elapsed": 1551,
     "status": "ok",
     "timestamp": 1691562098328,
     "user": {
      "displayName": "Sravan 21BLC1018",
      "userId": "15786248523050194906"
     },
     "user_tz": -330
    },
    "id": "G21q9Xk79Dpm",
    "outputId": "f8a3f770-2f67-4ad2-b12f-640a07aaccd6"
   },
   "outputs": [],
   "source": [
    "np.random.seed(123)\n",
    "x_values = np.random.uniform(low=0, high=(2 * math.pi), size=nsamples)      # this will generate uniform distribution of random ness\n",
    "plt.plot(x_values)"
   ]
  },
  {
   "cell_type": "markdown",
   "metadata": {
    "id": "MtZItrEX9qwR"
   },
   "source": [
    "**Obtain output samples with noise** (for estimation)"
   ]
  },
  {
   "cell_type": "code",
   "execution_count": null,
   "metadata": {
    "colab": {
     "base_uri": "https://localhost:8080/",
     "height": 447
    },
    "executionInfo": {
     "elapsed": 9,
     "status": "ok",
     "timestamp": 1691562277671,
     "user": {
      "displayName": "Sravan 21BLC1018",
      "userId": "15786248523050194906"
     },
     "user_tz": -330
    },
    "id": "IqoUnJGM9qXc",
    "outputId": "e9bb12c0-9511-473b-c200-ef912fd4d8cd"
   },
   "outputs": [],
   "source": [
    "y_values = np.sin(x_values) + (0.05 * np.random.randn(x_values.shape[0]))    # add some noise just to make the model guess a little\n",
    "plt.plot(x_values, y_values, '.')"
   ]
  },
  {
   "cell_type": "markdown",
   "metadata": {
    "id": "bLzeR98B-Fgn"
   },
   "source": [
    "**split the data across training, validation and test sets**"
   ]
  },
  {
   "cell_type": "code",
   "execution_count": null,
   "metadata": {
    "executionInfo": {
     "elapsed": 492,
     "status": "ok",
     "timestamp": 1691562638890,
     "user": {
      "displayName": "Sravan 21BLC1018",
      "userId": "15786248523050194906"
     },
     "user_tz": -330
    },
    "id": "rCwXgQox-NIC"
   },
   "outputs": [],
   "source": [
    "val_split = int(val_ratio * nsamples)\n",
    "test_split = int(val_split + (test_ratio * nsamples))\n",
    "x_val, x_test, x_train = np.split(x_values, [val_split, test_split])\n",
    "y_val, y_test, y_train = np.split(y_values, [val_split, test_split])\n",
    "\n",
    "# check samples intact\n",
    "assert(x_train.size + x_val.size + x_test.size == nsamples)"
   ]
  },
  {
   "cell_type": "markdown",
   "metadata": {
    "id": "HI7gjeHq-FP2"
   },
   "source": [
    "**show all the different data samples in the distribution**"
   ]
  },
  {
   "cell_type": "code",
   "execution_count": null,
   "metadata": {
    "colab": {
     "base_uri": "https://localhost:8080/",
     "height": 447
    },
    "executionInfo": {
     "elapsed": 1408,
     "status": "ok",
     "timestamp": 1691562741826,
     "user": {
      "displayName": "Sravan 21BLC1018",
      "userId": "15786248523050194906"
     },
     "user_tz": -330
    },
    "id": "owtT8Kvl-_6W",
    "outputId": "3368b886-b8ae-4432-9d4d-89d50e55270c"
   },
   "outputs": [],
   "source": [
    "plt.plot(x_train, y_train, 'b.', label=\"Train\")\n",
    "plt.plot(x_test, y_test, 'r.', label=\"Test\")\n",
    "plt.plot(x_val, y_val, 'y.', label=\"Validate\")"
   ]
  },
  {
   "cell_type": "markdown",
   "metadata": {
    "id": "F3LTnU_z_z_W"
   },
   "source": [
    "**Create the skeleton for the neural network model**"
   ]
  },
  {
   "cell_type": "code",
   "execution_count": null,
   "metadata": {
    "executionInfo": {
     "elapsed": 505,
     "status": "ok",
     "timestamp": 1691562931863,
     "user": {
      "displayName": "Sravan 21BLC1018",
      "userId": "15786248523050194906"
     },
     "user_tz": -330
    },
    "id": "nvfsk9CQAIUu"
   },
   "outputs": [],
   "source": [
    "model = tf.keras.Sequential()\n",
    "model.add(layers.Dense(16, activation='relu', input_shape=(1,)))\n",
    "model.add(layers.Dense(32, activation='relu'))\n",
    "model.add(layers.Dense(16, activation='relu'))\n",
    "model.add(layers.Dense(1))"
   ]
  },
  {
   "cell_type": "code",
   "execution_count": null,
   "metadata": {
    "colab": {
     "base_uri": "https://localhost:8080/"
    },
    "executionInfo": {
     "elapsed": 9,
     "status": "ok",
     "timestamp": 1691562940438,
     "user": {
      "displayName": "Sravan 21BLC1018",
      "userId": "15786248523050194906"
     },
     "user_tz": -330
    },
    "id": "_ufNlalpAfBu",
    "outputId": "aae1d259-5980-4281-b8aa-946b18ace0d7"
   },
   "outputs": [],
   "source": [
    "model.summary()"
   ]
  },
  {
   "cell_type": "markdown",
   "metadata": {
    "id": "JUqpfTmaAmqw"
   },
   "source": [
    "**Optimizer and Loss function and metrics**"
   ]
  },
  {
   "cell_type": "code",
   "execution_count": null,
   "metadata": {
    "executionInfo": {
     "elapsed": 1,
     "status": "ok",
     "timestamp": 1691563034057,
     "user": {
      "displayName": "Sravan 21BLC1018",
      "userId": "15786248523050194906"
     },
     "user_tz": -330
    },
    "id": "CFAEzhmiArxN"
   },
   "outputs": [],
   "source": [
    "model.compile(optimizer='rmsprop', loss='mae', metrics=['mae'])"
   ]
  },
  {
   "cell_type": "markdown",
   "metadata": {
    "id": "dZyG-bpvA76-"
   },
   "source": [
    "**Train the model**"
   ]
  },
  {
   "cell_type": "code",
   "execution_count": null,
   "metadata": {
    "colab": {
     "base_uri": "https://localhost:8080/"
    },
    "executionInfo": {
     "elapsed": 36661,
     "status": "ok",
     "timestamp": 1691563180905,
     "user": {
      "displayName": "Sravan 21BLC1018",
      "userId": "15786248523050194906"
     },
     "user_tz": -330
    },
    "id": "lZKAXkkjA-Hj",
    "outputId": "8a49519a-47a5-4b58-e184-5f35f4e81eb6"
   },
   "outputs": [],
   "source": [
    "with tf.device('/CPU:0'):\n",
    "  history = model.fit(x_train,\n",
    "                    y_train,\n",
    "                    epochs=500,\n",
    "                    batch_size=100,\n",
    "                    validation_data=(x_val, y_val),\n",
    "                  )"
   ]
  },
  {
   "cell_type": "markdown",
   "metadata": {
    "id": "TTabUvyrBr3G"
   },
   "source": [
    "**Observe training history**"
   ]
  },
  {
   "cell_type": "code",
   "execution_count": null,
   "metadata": {
    "colab": {
     "base_uri": "https://localhost:8080/",
     "height": 452
    },
    "executionInfo": {
     "elapsed": 1926,
     "status": "ok",
     "timestamp": 1691563359874,
     "user": {
      "displayName": "Sravan 21BLC1018",
      "userId": "15786248523050194906"
     },
     "user_tz": -330
    },
    "id": "I_cByp7fBBpy",
    "outputId": "aaed40cb-3f4c-4762-b61b-70c79cfcf775"
   },
   "outputs": [],
   "source": [
    "loss = history.history['loss']\n",
    "val_loss = history.history['val_loss']\n",
    "\n",
    "epochs = range(1, len(loss) + 1)\n",
    "\n",
    "plt.plot(epochs, loss, 'g', label='Training loss')\n",
    "plt.plot(epochs, val_loss, 'b', label='Validation loss')\n",
    "plt.title('Training and validation loss')\n",
    "plt.legend()\n",
    "plt.show()"
   ]
  },
  {
   "cell_type": "markdown",
   "metadata": {
    "id": "_LVYt4PSCS_K"
   },
   "source": [
    "**plot the predictions against actual values**"
   ]
  },
  {
   "cell_type": "code",
   "execution_count": null,
   "metadata": {
    "colab": {
     "base_uri": "https://localhost:8080/",
     "height": 469
    },
    "executionInfo": {
     "elapsed": 1092,
     "status": "ok",
     "timestamp": 1691563540943,
     "user": {
      "displayName": "Sravan 21BLC1018",
      "userId": "15786248523050194906"
     },
     "user_tz": -330
    },
    "id": "-4fln_g2CPER",
    "outputId": "2c843a78-456f-4695-b0ca-26090a2947db"
   },
   "outputs": [],
   "source": [
    "predictions = model.predict(x_test)\n",
    "\n",
    "plt.clf()\n",
    "plt.title('Comparison of predictions to actual values')\n",
    "plt.plot(x_test, y_test, 'g.', label='Actual')\n",
    "plt.plot(x_test, predictions, 'b.', label='Prediction')\n",
    "plt.legend()\n",
    "plt.show()"
   ]
  },
  {
   "cell_type": "markdown",
   "metadata": {
    "id": "LSviIoLeC_nc"
   },
   "source": [
    "**Convert and optimize it as a tflite model**"
   ]
  },
  {
   "cell_type": "code",
   "execution_count": null,
   "metadata": {
    "colab": {
     "base_uri": "https://localhost:8080/"
    },
    "executionInfo": {
     "elapsed": 3139,
     "status": "ok",
     "timestamp": 1691563794373,
     "user": {
      "displayName": "Sravan 21BLC1018",
      "userId": "15786248523050194906"
     },
     "user_tz": -330
    },
    "id": "88cag9rqDGoZ",
    "outputId": "60db9c1b-e8b1-464a-a20d-9ca1f872fa56"
   },
   "outputs": [],
   "source": [
    "converter = tf.lite.TFLiteConverter.from_keras_model(model)\n",
    "converter.optimizations = [tf.lite.Optimize.DEFAULT]\n",
    "tflite_model = converter.convert()\n",
    "\n",
    "open(tflite_model_name + '.tflite', 'wb').write(tflite_model)"
   ]
  }
 ],
 "metadata": {
  "colab": {
   "authorship_tag": "ABX9TyP9VuAi2bgXmTvRr9k8U4l8",
   "provenance": []
  },
  "kernelspec": {
   "display_name": "Python 3 (ipykernel)",
   "language": "python",
   "name": "python3"
  },
  "language_info": {
   "codemirror_mode": {
    "name": "ipython",
    "version": 3
   },
   "file_extension": ".py",
   "mimetype": "text/x-python",
   "name": "python",
   "nbconvert_exporter": "python",
   "pygments_lexer": "ipython3",
   "version": "3.8.17"
  }
 },
 "nbformat": 4,
 "nbformat_minor": 1
}
